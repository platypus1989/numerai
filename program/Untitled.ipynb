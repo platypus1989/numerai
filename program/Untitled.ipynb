{
 "cells": [
  {
   "cell_type": "code",
   "execution_count": 1,
   "metadata": {
    "collapsed": true
   },
   "outputs": [],
   "source": [
    "import pandas as pd\n",
    "import numpy as np\n",
    "from sklearn.metrics import accuracy_score, log_loss\n",
    "import lightgbm as lgb\n",
    "from time import time\n",
    "from sklearn.neighbors import RadiusNeighborsClassifier\n",
    "from sklearn import linear_model, decomposition, datasets\n",
    "import os\n",
    "os.chdir('C:/Users/n0269042/Documents/numerai')\n",
    "\n",
    "training_data = pd.read_csv('data/numerai_20180430/numerai_training_data.csv', header=0)\n",
    "tournament_data = pd.read_csv('data/numerai_20180430/numerai_tournament_data.csv', header=0)\n",
    "example_prediction = pd.read_csv('data/numerai_20180430/example_predictions.csv', header=0)\n",
    "\n",
    "validation_data = tournament_data[tournament_data.data_type == 'validation']\n",
    "\n",
    "X_train = training_data.drop(['id', 'era', 'data_type', 'target'], axis = 1).values\n",
    "y_train = training_data.target.values\n",
    "\n",
    "X_validation = validation_data.drop(['id', 'era', 'data_type', 'target'], axis = 1).values\n",
    "y_validation = validation_data.target.values\n"
   ]
  },
  {
   "cell_type": "code",
   "execution_count": null,
   "metadata": {},
   "outputs": [],
   "source": [
    "from sklearn import linear_model, decomposition, datasets\n",
    "from sklearn.pipeline import Pipeline\n",
    "\n",
    "nearestneighbor = RadiusNeighborsClassifier(radius = 1,\n",
    "                                algorithm = 'ball_tree')\n",
    "\n",
    "pca = decomposition.PCA(n_components=5)\n",
    "pipe = Pipeline(steps=[('pca', pca), ('nearestneighbor', nearestneighbor)])\n",
    "\n",
    "pipe.fit(X_train, y_train)\n",
    "\n",
    "tic = time()\n",
    "print(pipe.score(X_validation, y_validation))\n",
    "print(time() - tic)\n"
   ]
  },
  {
   "cell_type": "code",
   "execution_count": null,
   "metadata": {
    "collapsed": true
   },
   "outputs": [],
   "source": [
    "\n",
    "pred = np.empty([len(y_validation)])\n",
    "tic = time()\n",
    "for i in range(len(y_validation)):\n",
    "    pred[i] = pipe.predict(X_validation[i]))\n",
    "print(time() - tic)\n"
   ]
  },
  {
   "cell_type": "code",
   "execution_count": null,
   "metadata": {
    "collapsed": true
   },
   "outputs": [],
   "source": []
  }
 ],
 "metadata": {
  "kernelspec": {
   "display_name": "Python 3",
   "language": "python",
   "name": "python3"
  },
  "language_info": {
   "codemirror_mode": {
    "name": "ipython",
    "version": 3
   },
   "file_extension": ".py",
   "mimetype": "text/x-python",
   "name": "python",
   "nbconvert_exporter": "python",
   "pygments_lexer": "ipython3",
   "version": "3.6.3"
  }
 },
 "nbformat": 4,
 "nbformat_minor": 2
}
