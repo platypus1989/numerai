{
 "cells": [
  {
   "cell_type": "code",
   "execution_count": 1,
   "metadata": {},
   "outputs": [
    {
     "name": "stdout",
     "output_type": "stream",
     "text": [
      "Checking whether there is an H2O instance running at http://localhost:54321. connected.\n"
     ]
    },
    {
     "data": {
      "text/html": [
       "<div style=\"overflow:auto\"><table style=\"width:50%\"><tr><td>H2O cluster uptime:</td>\n",
       "<td>4 days 1 hour 17 mins</td></tr>\n",
       "<tr><td>H2O cluster timezone:</td>\n",
       "<td>America/New_York</td></tr>\n",
       "<tr><td>H2O data parsing timezone:</td>\n",
       "<td>UTC</td></tr>\n",
       "<tr><td>H2O cluster version:</td>\n",
       "<td>3.18.0.4</td></tr>\n",
       "<tr><td>H2O cluster version age:</td>\n",
       "<td>1 month and 22 days </td></tr>\n",
       "<tr><td>H2O cluster name:</td>\n",
       "<td>H2O_from_python_n0269042_c1dwk2</td></tr>\n",
       "<tr><td>H2O cluster total nodes:</td>\n",
       "<td>1</td></tr>\n",
       "<tr><td>H2O cluster free memory:</td>\n",
       "<td>20.83 Gb</td></tr>\n",
       "<tr><td>H2O cluster total cores:</td>\n",
       "<td>8</td></tr>\n",
       "<tr><td>H2O cluster allowed cores:</td>\n",
       "<td>8</td></tr>\n",
       "<tr><td>H2O cluster status:</td>\n",
       "<td>locked, healthy</td></tr>\n",
       "<tr><td>H2O connection url:</td>\n",
       "<td>http://localhost:54321</td></tr>\n",
       "<tr><td>H2O connection proxy:</td>\n",
       "<td>None</td></tr>\n",
       "<tr><td>H2O internal security:</td>\n",
       "<td>False</td></tr>\n",
       "<tr><td>H2O API Extensions:</td>\n",
       "<td>Algos, AutoML, Core V3, Core V4</td></tr>\n",
       "<tr><td>Python version:</td>\n",
       "<td>3.6.3 final</td></tr></table></div>"
      ],
      "text/plain": [
       "--------------------------  -------------------------------\n",
       "H2O cluster uptime:         4 days 1 hour 17 mins\n",
       "H2O cluster timezone:       America/New_York\n",
       "H2O data parsing timezone:  UTC\n",
       "H2O cluster version:        3.18.0.4\n",
       "H2O cluster version age:    1 month and 22 days\n",
       "H2O cluster name:           H2O_from_python_n0269042_c1dwk2\n",
       "H2O cluster total nodes:    1\n",
       "H2O cluster free memory:    20.83 Gb\n",
       "H2O cluster total cores:    8\n",
       "H2O cluster allowed cores:  8\n",
       "H2O cluster status:         locked, healthy\n",
       "H2O connection url:         http://localhost:54321\n",
       "H2O connection proxy:\n",
       "H2O internal security:      False\n",
       "H2O API Extensions:         Algos, AutoML, Core V3, Core V4\n",
       "Python version:             3.6.3 final\n",
       "--------------------------  -------------------------------"
      ]
     },
     "metadata": {},
     "output_type": "display_data"
    }
   ],
   "source": [
    "import pandas as pd\n",
    "import numpy as np\n",
    "from sklearn import metrics, preprocessing, linear_model\n",
    "import os\n",
    "os.chdir('C:/Users/n0269042/Documents/numerai')\n",
    "\n",
    "import h2o\n",
    "from h2o.automl import H2OAutoML\n",
    "\n",
    "h2o.init()\n",
    "\n",
    "training_data = pd.read_csv('data/numerai_20180430/numerai_training_data.csv', header=0)\n",
    "prediction_data = pd.read_csv('data/numerai_20180430/numerai_tournament_data.csv', header=0)"
   ]
  },
  {
   "cell_type": "code",
   "execution_count": 7,
   "metadata": {},
   "outputs": [
    {
     "name": "stdout",
     "output_type": "stream",
     "text": [
      "Parse progress: |█████████████████████████████████████████████████████████| 100%\n",
      "Parse progress: |█████████████████████████████████████████████████████████| 100%\n",
      "Parse progress: |█████████████████████████████████████████████████████████| 100%\n"
     ]
    }
   ],
   "source": [
    "train = training_data[training_data.era.isin(['era'+str(i+1) for i in range(100)])].drop(['id', 'era', 'data_type'], axis=1)\n",
    "leaderboard = training_data[training_data.era.isin(['era'+str(i+101) for i in range(20)])].drop(['id', 'era', 'data_type'], axis=1)\n",
    "train = h2o.H2OFrame(train)\n",
    "leaderboard = h2o.H2OFrame(leaderboard)\n",
    "\n",
    "validation = prediction_data[prediction_data.data_type == 'validation'].drop(['id', 'era', 'data_type'], axis=1)\n",
    "validation = h2o.H2OFrame(validation)"
   ]
  },
  {
   "cell_type": "code",
   "execution_count": 9,
   "metadata": {},
   "outputs": [
    {
     "name": "stdout",
     "output_type": "stream",
     "text": [
      "AutoML progress: |████████████████████████████████████████████████████████| 100%\n",
      "Parse progress: |█████████████████████████████████████████████████████████| 100%\n"
     ]
    },
    {
     "data": {
      "text/html": [
       "<table>\n",
       "<thead>\n",
       "<tr><th>model_id                                             </th><th style=\"text-align: right;\">     auc</th><th style=\"text-align: right;\">  logloss</th></tr>\n",
       "</thead>\n",
       "<tbody>\n",
       "<tr><td>DeepLearning_grid_0_AutoML_20180501_154107_model_5   </td><td style=\"text-align: right;\">0.514306</td><td style=\"text-align: right;\"> 0.694773</td></tr>\n",
       "<tr><td>GBM_grid_0_AutoML_20180501_154107_model_5            </td><td style=\"text-align: right;\">0.50973 </td><td style=\"text-align: right;\"> 0.693047</td></tr>\n",
       "<tr><td>DeepLearning_grid_0_AutoML_20180501_154107_model_1   </td><td style=\"text-align: right;\">0.509685</td><td style=\"text-align: right;\"> 0.697297</td></tr>\n",
       "<tr><td>GBM_grid_0_AutoML_20180501_154107_model_6            </td><td style=\"text-align: right;\">0.509497</td><td style=\"text-align: right;\"> 0.693056</td></tr>\n",
       "<tr><td>StackedEnsemble_AllModels_0_AutoML_20180501_154107   </td><td style=\"text-align: right;\">0.508821</td><td style=\"text-align: right;\"> 0.693766</td></tr>\n",
       "<tr><td>DeepLearning_grid_0_AutoML_20180501_154107_model_3   </td><td style=\"text-align: right;\">0.508357</td><td style=\"text-align: right;\"> 0.698362</td></tr>\n",
       "<tr><td>StackedEnsemble_BestOfFamily_0_AutoML_20180501_154107</td><td style=\"text-align: right;\">0.507475</td><td style=\"text-align: right;\"> 0.693634</td></tr>\n",
       "<tr><td>GBM_grid_0_AutoML_20180501_154107_model_0            </td><td style=\"text-align: right;\">0.507138</td><td style=\"text-align: right;\"> 0.693634</td></tr>\n",
       "<tr><td>DeepLearning_grid_0_AutoML_20180501_154107_model_4   </td><td style=\"text-align: right;\">0.506975</td><td style=\"text-align: right;\"> 0.699131</td></tr>\n",
       "<tr><td>DeepLearning_grid_0_AutoML_20180501_154107_model_7   </td><td style=\"text-align: right;\">0.506786</td><td style=\"text-align: right;\"> 0.693207</td></tr>\n",
       "</tbody>\n",
       "</table>"
      ]
     },
     "metadata": {},
     "output_type": "display_data"
    },
    {
     "data": {
      "text/plain": []
     },
     "execution_count": 9,
     "metadata": {},
     "output_type": "execute_result"
    }
   ],
   "source": [
    "x = train.columns\n",
    "y = \"target\"\n",
    "x.remove(y)\n",
    "\n",
    "# For binary classification, response should be a factor\n",
    "train[y] = train[y].asfactor()\n",
    "leaderboard[y] = leaderboard[y].asfactor()\n",
    "\n",
    "# Run AutoML for 30 seconds\n",
    "aml = H2OAutoML(max_runtime_secs = 18000)\n",
    "aml.train(x = x, y = y,\n",
    "          training_frame = train,\n",
    "          leaderboard_frame = leaderboard)\n",
    "\n",
    "# View the AutoML Leaderboard\n",
    "lb = aml.leaderboard\n",
    "lb"
   ]
  },
  {
   "cell_type": "code",
   "execution_count": 5,
   "metadata": {},
   "outputs": [
    {
     "name": "stdout",
     "output_type": "stream",
     "text": [
      "Parse progress: |█████████████████████████████████████████████████████████| 100%\n",
      "Parse progress: |█████████████████████████████████████████████████████████| 100%\n",
      "deeplearning prediction progress: |███████████████████████████████████████| 100%\n"
     ]
    }
   ],
   "source": [
    "holdout = prediction_data.drop(['id', 'era', 'data_type'], axis=1)\n",
    "holdout = h2o.H2OFrame(holdout)\n",
    "preds = aml.predict(holdout)"
   ]
  },
  {
   "cell_type": "code",
   "execution_count": 15,
   "metadata": {
    "collapsed": true
   },
   "outputs": [],
   "source": [
    "test_submission = pd.DataFrame({'id': prediction_data.id, 'probability': preds.as_data_frame().p1})\n",
    "test_submission.to_csv('submission/test_submission_20180430_1.csv', index=False)"
   ]
  },
  {
   "cell_type": "markdown",
   "metadata": {},
   "source": [
    "predictions must be between 0.3 and 0.7"
   ]
  },
  {
   "cell_type": "code",
   "execution_count": 16,
   "metadata": {},
   "outputs": [
    {
     "name": "stderr",
     "output_type": "stream",
     "text": [
      "C:\\Users\\n0269042\\Anaconda3\\lib\\site-packages\\ipykernel_launcher.py:1: SettingWithCopyWarning: \n",
      "A value is trying to be set on a copy of a slice from a DataFrame\n",
      "\n",
      "See the caveats in the documentation: http://pandas.pydata.org/pandas-docs/stable/indexing.html#indexing-view-versus-copy\n",
      "  \"\"\"Entry point for launching an IPython kernel.\n",
      "C:\\Users\\n0269042\\Anaconda3\\lib\\site-packages\\ipykernel_launcher.py:2: SettingWithCopyWarning: \n",
      "A value is trying to be set on a copy of a slice from a DataFrame\n",
      "\n",
      "See the caveats in the documentation: http://pandas.pydata.org/pandas-docs/stable/indexing.html#indexing-view-versus-copy\n",
      "  \n"
     ]
    }
   ],
   "source": [
    "test_submission.probability[test_submission.probability > 0.7] = 0.7\n",
    "test_submission.probability[test_submission.probability < 0.3] = 0.3\n",
    "\n",
    "test_submission.to_csv('submission/test_submission_20180430_2.csv', index=False)"
   ]
  },
  {
   "cell_type": "code",
   "execution_count": null,
   "metadata": {
    "collapsed": true
   },
   "outputs": [],
   "source": []
  }
 ],
 "metadata": {
  "kernelspec": {
   "display_name": "Python 3",
   "language": "python",
   "name": "python3"
  },
  "language_info": {
   "codemirror_mode": {
    "name": "ipython",
    "version": 3
   },
   "file_extension": ".py",
   "mimetype": "text/x-python",
   "name": "python",
   "nbconvert_exporter": "python",
   "pygments_lexer": "ipython3",
   "version": "3.6.3"
  }
 },
 "nbformat": 4,
 "nbformat_minor": 2
}
